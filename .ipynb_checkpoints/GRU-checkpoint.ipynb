{
 "cells": [
  {
   "cell_type": "code",
   "execution_count": 1,
   "metadata": {},
   "outputs": [],
   "source": [
    "import numpy as np\n",
    "import os\n",
    "import collections\n",
    "import scipy.io as io\n",
    "from scipy.stats import bernoulli\n",
    "import datetime\n",
    "import matplotlib.pyplot as plt\n",
    "from functools import reduce\n",
    "import torch\n",
    "import torch.nn as nn\n",
    "from torch.autograd import Variable\n",
    "from sklearn import metrics\n",
    "# import xgboost as xgb\n",
    "# from sklearn.preprocerssing import OneHotEncoder\n",
    "from scipy.stats import bernoulli\n",
    "from sklearn.metrics import classification_report, precision_recall_fscore_support\n",
    "from torch.utils import data\n",
    "from sklearn.tree import DecisionTreeClassifier\n",
    "from sklearn.ensemble import RandomForestClassifier\n",
    "from torch import optim\n",
    "import torch.nn.functional as F\n",
    "import json\n",
    "import gc\n",
    "%matplotlib inline"
   ]
  },
  {
   "cell_type": "markdown",
   "metadata": {},
   "source": [
    "## Reference https://pytorch.org/tutorials/intermediate/seq2seq_translation_tutorial.html"
   ]
  },
  {
   "cell_type": "code",
   "execution_count": 2,
   "metadata": {},
   "outputs": [],
   "source": [
    "sensor = np.loadtxt('./data/processed_data/sensor_data.txt')\n",
    "activity = np.loadtxt('./data/processed_data/activity_data.txt')"
   ]
  },
  {
   "cell_type": "code",
   "execution_count": 3,
   "metadata": {},
   "outputs": [
    {
     "data": {
      "text/plain": [
       "((56007, 14), (24003, 14), (56007, 16), (24003, 16))"
      ]
     },
     "execution_count": 3,
     "metadata": {},
     "output_type": "execute_result"
    }
   ],
   "source": [
    "from sklearn.model_selection import train_test_split\n",
    "X_train, X_test, y_train, y_test = train_test_split(sensor, activity, test_size=0.3, shuffle=False)\n",
    "X_train.shape, X_test.shape, y_train.shape, y_test.shape"
   ]
  },
  {
   "cell_type": "code",
   "execution_count": 35,
   "metadata": {},
   "outputs": [],
   "source": [
    "# sensor_var = Variable(torch.FloatTensor(sensor))\n",
    "# act_var = Variable(torch.FloatTensor(activity))\n",
    "# sensor_var.size(), act_var.size()\n",
    "\n",
    "sensor_dataset = data.TensorDataset(torch.FloatTensor(X_train), torch.FloatTensor(y_train))\n",
    "sensor_dataloader = data.DataLoader(sensor_dataset, shuffle=False, batch_size=56007)"
   ]
  },
  {
   "cell_type": "code",
   "execution_count": 36,
   "metadata": {},
   "outputs": [],
   "source": [
    "class EncoderRNN(nn.Module):\n",
    "    def __init__(self, input_size, hidden_size):\n",
    "        super(EncoderRNN, self).__init__()\n",
    "        self.hidden_size = hidden_size\n",
    "\n",
    "#         self.embedding = nn.Embedding(input_size, hidden_size)\n",
    "        self.gru = nn.GRU(input_size, hidden_size)\n",
    "\n",
    "    def forward(self, input, hidden):\n",
    "#         embedded = self.embedding(input).view(1, 1, -1)\n",
    "#         output = embedded\n",
    "#         print(input.view(1, 1, -1).size(), hidden.size())\n",
    "        output, hidden = self.gru(input.view(1, 1, -1), hidden)\n",
    "        return output, hidden\n",
    "\n",
    "    def initHidden(self):\n",
    "        return Variable(torch.zeros(1, 1, self.hidden_size))\n",
    "    \n",
    "    \n",
    "class DecoderRNN(nn.Module):\n",
    "    def __init__(self, hidden_size, output_size):\n",
    "        super(DecoderRNN, self).__init__()\n",
    "        self.hidden_size = hidden_size\n",
    "\n",
    "#         self.embedding = nn.Embedding(output_size, hidden_size)\n",
    "        self.gru = nn.GRU(output_size, hidden_size)\n",
    "        self.out = nn.Linear(hidden_size, output_size)\n",
    "        self.sigmoid = nn.Sigmoid()\n",
    "\n",
    "    def forward(self, input, hidden):\n",
    "#         output = self.embedding(input).view(1, 1, -1)\n",
    "        output = F.relu(input.view(1, 1, -1))\n",
    "#         print(output.size(), hidden.size())\n",
    "        output, hidden = self.gru(output, hidden)\n",
    "        output = self.sigmoid(self.out(output[0]))\n",
    "        return output, hidden\n",
    "\n",
    "    def initHidden(self):\n",
    "        return Variable(torch.zeros(1, 1, self.hidden_size))\n",
    "    \n",
    "## 0.5以下为0，以上为1\n",
    "def cut_by_half(tensor):\n",
    "    l = tensor.tolist()\n",
    "    return Variable(torch.FloatTensor(np.asarray([1. if i >= 0.5 else 0 for i in l])))"
   ]
  },
  {
   "cell_type": "code",
   "execution_count": 37,
   "metadata": {},
   "outputs": [],
   "source": [
    "def train(input_tensor, target_tensor, encoder, decoder, encoder_optimizer,\n",
    "          decoder_optimizer, criterion, teacher_forcing_ratio=0.5):\n",
    "    encoder_hidden = encoder.initHidden()\n",
    "\n",
    "    encoder_optimizer.zero_grad()\n",
    "    decoder_optimizer.zero_grad()\n",
    "    \n",
    "    input_length = input_tensor.size(0)\n",
    "    target_length = target_tensor.size(0)\n",
    "    assert(input_length == target_length)\n",
    "    encoder_outputs = torch.zeros(input_length, encoder.hidden_size)\n",
    "\n",
    "    loss = 0\n",
    "\n",
    "    for ei in range(input_length):\n",
    "#         print(type(input_tensor[ei]), type(encoder_hidden))\n",
    "        encoder_output, encoder_hidden = encoder(input_tensor[ei], encoder_hidden)\n",
    "        encoder_outputs[ei] = encoder_output[0, 0].data\n",
    "\n",
    "    decoder_input = target_tensor[0]\n",
    "\n",
    "    decoder_hidden = encoder_hidden\n",
    "\n",
    "    use_teacher_forcing = True if np.random.random() < teacher_forcing_ratio else False\n",
    "\n",
    "    if use_teacher_forcing:\n",
    "        # Teacher forcing: Feed the target as the next input\n",
    "        for di in range(target_length):\n",
    "            decoder_input = target_tensor[di]  # Teacher forcing\n",
    "            decoder_output, decoder_hidden = decoder(decoder_input, decoder_hidden)\n",
    "            loss += criterion(decoder_output.squeeze(), target_tensor[di])\n",
    "            \n",
    "    else:\n",
    "        # Without teacher forcing: use its own predictions as the next input\n",
    "        for di in range(target_length):\n",
    "            decoder_output, decoder_hidden = decoder(decoder_input, decoder_hidden)\n",
    "            decoder_input = cut_by_half(decoder_output.data.squeeze())\n",
    "#             print(decoder_input)\n",
    "#             topv, topi = decoder_output.topk(1)\n",
    "#             decoder_input = topv.squeeze().detach().type(torch.FloatTensor)  # detach from history as input\n",
    "            loss += criterion(decoder_output.squeeze(), target_tensor[di])\n",
    "\n",
    "    loss.backward()\n",
    "\n",
    "    encoder_optimizer.step()\n",
    "    decoder_optimizer.step()\n",
    "\n",
    "    return loss.data[0]"
   ]
  },
  {
   "cell_type": "code",
   "execution_count": 41,
   "metadata": {},
   "outputs": [],
   "source": [
    "def trainIters(dataloader, encoder, decoder, n_iters, learning_rate=0.01):\n",
    "    plot_losses = []\n",
    "    print_loss_total = 0  # Reset every print_every\n",
    "    plot_loss_total = 0  # Reset every plot_every\n",
    "\n",
    "    encoder_optimizer = optim.SGD(encoder.parameters(), lr=learning_rate)\n",
    "    decoder_optimizer = optim.SGD(decoder.parameters(), lr=learning_rate)\n",
    "#     training_pairs = [tensorsFromPair(random.choice(pairs)) for i in range(n_iters)]\n",
    "    criterion = nn.MSELoss()\n",
    "    print('Begin Training')\n",
    "    for iter in range(1, n_iters + 1):\n",
    "#         training_pair = training_pairs[iter - 1]\n",
    "        ## 这里的decoder的猜测还没解决\n",
    "        print(\"Training [{}/{}] epoch\".format(iter, n_iters))\n",
    "        for i, (X_batch, y_batch) in enumerate(dataloader):\n",
    "            loss = train(Variable(X_batch), Variable(y_batch), encoder,\n",
    "                         decoder, encoder_optimizer, decoder_optimizer, criterion)\n",
    "#             print_loss_total += loss\n",
    "#             plot_loss_total += loss\n",
    "           \n",
    "            plot_losses.append(loss)\n",
    "    return plot_losses"
   ]
  },
  {
   "cell_type": "code",
   "execution_count": 42,
   "metadata": {},
   "outputs": [
    {
     "name": "stdout",
     "output_type": "stream",
     "text": [
      "Begin Training\n",
      "Training [1/3] epoch\n"
     ]
    },
    {
     "name": "stderr",
     "output_type": "stream",
     "text": [
      "D:\\Anaconda3_501\\lib\\site-packages\\ipykernel_launcher.py:48: UserWarning: invalid index of a 0-dim tensor. This will be an error in PyTorch 0.5. Use tensor.item() to convert a 0-dim tensor to a Python number\n"
     ]
    },
    {
     "name": "stdout",
     "output_type": "stream",
     "text": [
      "Training [2/3] epoch\n",
      "Training [3/3] epoch\n"
     ]
    }
   ],
   "source": [
    "encoder = EncoderRNN(sensor.shape[1], 10)\n",
    "decoder = DecoderRNN(10, activity.shape[1])\n",
    "\n",
    "losses = trainIters(sensor_dataloader, encoder, decoder, 3, learning_rate=0.001)"
   ]
  },
  {
   "cell_type": "code",
   "execution_count": 15,
   "metadata": {},
   "outputs": [
    {
     "data": {
      "text/plain": [
       "[<matplotlib.lines.Line2D at 0x137cf2cddd8>]"
      ]
     },
     "execution_count": 15,
     "metadata": {},
     "output_type": "execute_result"
    },
    {
     "data": {
      "image/png": "[encoded data removed]",
      "text/plain": [
       "<matplotlib.figure.Figure at 0x137d103c7f0>"
      ]
     },
     "metadata": {},
     "output_type": "display_data"
    }
   ],
   "source": [
    "plt.plot(losses)"
   ]
  },
  {
   "cell_type": "code",
   "execution_count": 43,
   "metadata": {},
   "outputs": [],
   "source": [
    "test_dataset = data.TensorDataset(torch.FloatTensor(X_test), torch.FloatTensor(y_test))\n",
    "test_dataloader = data.DataLoader(test_dataset, batch_size=1, shuffle=False)"
   ]
  },
  {
   "cell_type": "code",
   "execution_count": 44,
   "metadata": {},
   "outputs": [],
   "source": [
    "def evaluate(encoder, decoder, dataloader):\n",
    "    with torch.no_grad():\n",
    "#     input_tensor = X_test.copy()\n",
    "#     input_tensor.dtype = np.float32\n",
    "#     input_tensor = Variable(torch.from_numpy(input_tensor))\n",
    "#     input_length = input_tensor.size()[0]\n",
    "        input_length = len(dataloader)\n",
    "        encoder_hidden = encoder.initHidden()\n",
    "\n",
    "        encoder_outputs = torch.zeros(input_length, encoder.hidden_size)\n",
    "\n",
    "        for ei, (input_tensor, output_tensor) in enumerate(dataloader):\n",
    "#             print(input_tensor.size(), encoder_hidden.size())\n",
    "#             print(type(input_tensor), type(encoder_hidden))\n",
    "            encoder_output, encoder_hidden = encoder(Variable(input_tensor), encoder_hidden)\n",
    "            encoder_outputs[ei] = encoder_output[0, 0]\n",
    "\n",
    "        decoder_input = Variable(torch.FloatTensor(y_test[0]))  # SOS\n",
    "\n",
    "        decoder_hidden = encoder_hidden\n",
    "\n",
    "        y_pred = []\n",
    "        for di in range(input_length):\n",
    "            decoder_output, decoder_hidden = decoder(decoder_input, decoder_hidden)\n",
    "    #             topv, topi = decoder_output.data.topk(1)\n",
    "\n",
    "    #             if topi.item() == EOS_token:\n",
    "    #                 decoded_words.append('<EOS>')\n",
    "    #                 break\n",
    "    #             else:\n",
    "    #                 decoded_words.append(output_lang.index2word[topi.item()])\n",
    "\n",
    "            decoder_input = cut_by_half(decoder_output.data.squeeze())\n",
    "            y_pred.append(decoder_input.data.tolist())\n",
    "\n",
    "        return y_pred"
   ]
  },
  {
   "cell_type": "code",
   "execution_count": 45,
   "metadata": {},
   "outputs": [],
   "source": [
    "y_pred = evaluate(encoder, decoder, test_dataloader)"
   ]
  },
  {
   "cell_type": "code",
   "execution_count": 46,
   "metadata": {},
   "outputs": [
    {
     "data": {
      "text/plain": [
       "(24003, 16)"
      ]
     },
     "execution_count": 46,
     "metadata": {},
     "output_type": "execute_result"
    }
   ],
   "source": [
    "y_pred = np.asarray(y_pred)\n",
    "y_pred.shape"
   ]
  },
  {
   "cell_type": "code",
   "execution_count": 47,
   "metadata": {},
   "outputs": [
    {
     "name": "stdout",
     "output_type": "stream",
     "text": [
      "             precision    recall  f1-score   support\n",
      "\n",
      "          0       0.00      0.00      0.00         7\n",
      "          1       0.00      0.00      0.00      6392\n",
      "          2       0.00      0.00      0.00        77\n",
      "          3       0.00      0.00      0.00        24\n",
      "          4       0.00      0.00      0.00         8\n",
      "          5       0.00      0.00      0.00       132\n",
      "          6       0.34      1.00      0.51      8133\n",
      "          7       0.00      0.00      0.00         0\n",
      "          8       0.00      0.00      0.00         0\n",
      "          9       0.00      0.00      0.00         0\n",
      "         10       0.00      0.00      0.00       110\n",
      "         11       0.00      0.00      0.00         0\n",
      "         12       0.00      0.00      0.00        10\n",
      "         13       0.00      0.00      0.00         4\n",
      "         14       0.00      0.00      0.00         2\n",
      "         15       0.00      0.00      0.00         9\n",
      "\n",
      "avg / total       0.18      0.55      0.28     14908\n",
      "\n"
     ]
    },
    {
     "name": "stderr",
     "output_type": "stream",
     "text": [
      "D:\\Anaconda3_501\\lib\\site-packages\\sklearn\\metrics\\classification.py:1135: UndefinedMetricWarning: Precision and F-score are ill-defined and being set to 0.0 in labels with no predicted samples.\n",
      "  'precision', 'predicted', average, warn_for)\n",
      "D:\\Anaconda3_501\\lib\\site-packages\\sklearn\\metrics\\classification.py:1137: UndefinedMetricWarning: Recall and F-score are ill-defined and being set to 0.0 in labels with no true samples.\n",
      "  'recall', 'true', average, warn_for)\n"
     ]
    }
   ],
   "source": [
    "print(classification_report(y_test, y_pred))"
   ]
  },
  {
   "cell_type": "code",
   "execution_count": 49,
   "metadata": {},
   "outputs": [
    {
     "data": {
      "text/plain": [
       "24003.0"
      ]
     },
     "execution_count": 49,
     "metadata": {},
     "output_type": "execute_result"
    }
   ],
   "source": []
  },
  {
   "cell_type": "code",
   "execution_count": null,
   "metadata": {},
   "outputs": [],
   "source": []
  }
 ],
 "metadata": {
  "kernelspec": {
   "display_name": "Python 3",
   "language": "python",
   "name": "python3"
  },
  "language_info": {
   "codemirror_mode": {
    "name": "ipython",
    "version": 3
   },
   "file_extension": ".py",
   "mimetype": "text/x-python",
   "name": "python",
   "nbconvert_exporter": "python",
   "pygments_lexer": "ipython3",
   "version": "3.6.3"
  }
 },
 "nbformat": 4,
 "nbformat_minor": 2
}
