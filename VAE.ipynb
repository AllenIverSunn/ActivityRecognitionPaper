{
 "cells": [
  {
   "cell_type": "code",
   "execution_count": 6,
   "metadata": {},
   "outputs": [],
   "source": [
    "import torch\n",
    "import torch.nn as nn\n",
    "import torch.nn.functional as F\n",
    "from torch.autograd import Variable\n",
    "import numpy as np\n",
    "from torch.utils import data\n",
    "import pandas as pd"
   ]
  },
  {
   "cell_type": "code",
   "execution_count": 5,
   "metadata": {},
   "outputs": [],
   "source": [
    "sensor = np.loadtxt('./data/processed_data/sensor_data.txt')\n",
    "activity = np.loadtxt('./data/processed_data/activity_data.txt')"
   ]
  },
  {
   "cell_type": "code",
   "execution_count": 7,
   "metadata": {},
   "outputs": [],
   "source": [
    "sensor_dataset = data.TensorDataset(data_tensor=torch.FloatTensor(sensor), target_tensor=torch.FloatTensor(activity))\n",
    "data_loader = data.DataLoader(\n",
    "    dataset=sensor_dataset,\n",
    "    shuffle=False\n",
    ")"
   ]
  },
  {
   "cell_type": "code",
   "execution_count": 45,
   "metadata": {},
   "outputs": [],
   "source": [
    "class VAE(nn.Module):\n",
    "    def __init__(self, n_input, n_hidden):\n",
    "        super(VAE, self).__init__()\n",
    "        self.encoder = nn.Sequential(\n",
    "            nn.Linear(n_input, n_hidden),\n",
    "            nn.LeakyReLU(0.2),\n",
    "            nn.Linear(n_hidden, n_input*2))  # 2 for mean and variance.\n",
    "        \n",
    "        self.decoder = nn.Sequential(\n",
    "            nn.Linear(n_input, n_hidden),\n",
    "            nn.ReLU(),\n",
    "            nn.Linear(n_hidden, n_input),\n",
    "            nn.Sigmoid())\n",
    "        \n",
    "    def reparameterize(self, mu, log_var):\n",
    "        ## z = mean + eps * sigma where eps is sampled from N(0, 1).\n",
    "        eps = Variable(torch.randn(mu.size(0), mu.size(1)))\n",
    "        z = mu + eps * torch.exp(log_var / 2) ## /2 是为了转化为std\n",
    "        return z\n",
    "    \n",
    "    def forward(self, x):\n",
    "        h = self.encoder(x)\n",
    "        mu, log_var = torch.chunk(h, 2, dim=1)   ## mean and log variance\n",
    "        z = self.reparameterize(mu, log_var)\n",
    "        out = self.decoder(z)\n",
    "        return out, mu, log_var\n",
    "    \n",
    "    def sample(self, z):\n",
    "        return self.decoder(z)"
   ]
  },
  {
   "cell_type": "code",
   "execution_count": 46,
   "metadata": {},
   "outputs": [],
   "source": [
    "vae = VAE(14, 30)\n",
    "optimizer = torch.optim.Adam(vae.parameters(), lr=0.001)\n",
    "iter_per_epoch = len(data_loader)\n",
    "data_iter = iter(data_loader)"
   ]
  },
  {
   "cell_type": "code",
   "execution_count": 50,
   "metadata": {},
   "outputs": [
    {
     "name": "stdout",
     "output_type": "stream",
     "text": [
      "Epoch[1/3], Step [80001/80010], Total Loss: 0.0087, Reconst Loss: 0.0087, KL Div: -0.0000000\n",
      "Epoch[2/3], Step [80001/80010], Total Loss: 0.0005, Reconst Loss: 0.0005, KL Div: 0.0000003\n",
      "Epoch[3/3], Step [80001/80010], Total Loss: 0.0010, Reconst Loss: 0.0010, KL Div: 0.0000006\n"
     ]
    }
   ],
   "source": [
    "Loss = []\n",
    "for epoch in range(3):\n",
    "    for i, (x, _) in enumerate(data_loader):\n",
    "        \n",
    "        x_train = Variable(x.view(x.size(0), -1))\n",
    "        out, mu, log_var = vae(x_train)\n",
    "        \n",
    "        # Compute reconstruction loss and kl divergence\n",
    "        # For kl_divergence, see Appendix B in the paper or http://yunjey47.tistory.com/43\n",
    "        reconst_loss = F.binary_cross_entropy(out, x_train, size_average=False)\n",
    "        kl_divergence = torch.sum(0.5 * (mu**2 + torch.exp(log_var) - log_var - 1))\n",
    "        \n",
    "        # Backprop + Optimize\n",
    "        total_loss = reconst_loss + kl_divergence\n",
    "        optimizer.zero_grad()\n",
    "        total_loss.backward()\n",
    "        optimizer.step()\n",
    "        \n",
    "        if i % 100 == 0:\n",
    "            print (\"\\rEpoch[%d/%d], Step [%d/%d], Total Loss: %.4f, \"\n",
    "                   \"Reconst Loss: %.4f, KL Div: %.7f\" \n",
    "                   %(epoch+1, 3, i+1, iter_per_epoch, total_loss.data[0], \n",
    "                     reconst_loss.data[0], kl_divergence.data[0]), end='')\n",
    "            Loss.append(reconst_loss)\n",
    "    print()\n",
    "    "
   ]
  },
  {
   "cell_type": "code",
   "execution_count": 51,
   "metadata": {},
   "outputs": [],
   "source": [
    "recons_sensor = vae(Variable(torch.FloatTensor(sensor)))"
   ]
  },
  {
   "cell_type": "code",
   "execution_count": 52,
   "metadata": {},
   "outputs": [],
   "source": [
    "np.savetxt('./data/recons_sensor.txt', recons_sensor[0].data.numpy())"
   ]
  },
  {
   "cell_type": "code",
   "execution_count": 53,
   "metadata": {},
   "outputs": [],
   "source": [
    "del recons_sensor\n",
    "recons_sensor = np.loadtxt('./data/recons_sensor.txt')"
   ]
  },
  {
   "cell_type": "code",
   "execution_count": 54,
   "metadata": {},
   "outputs": [
    {
     "data": {
      "text/plain": [
       "((80010, 14), (80010, 16))"
      ]
     },
     "execution_count": 54,
     "metadata": {},
     "output_type": "execute_result"
    }
   ],
   "source": [
    "recons_sensor.shape, activity.shape"
   ]
  },
  {
   "cell_type": "code",
   "execution_count": 55,
   "metadata": {},
   "outputs": [],
   "source": [
    "from sklearn.model_selection import train_test_split\n",
    "X_train, X_test, y_train, y_test = train_test_split(recons_sensor, activity, test_size=0.3, shuffle=False)"
   ]
  },
  {
   "cell_type": "code",
   "execution_count": 56,
   "metadata": {},
   "outputs": [
    {
     "data": {
      "text/plain": [
       "((56007, 14), (24003, 14), (56007, 16), (24003, 16))"
      ]
     },
     "execution_count": 56,
     "metadata": {},
     "output_type": "execute_result"
    }
   ],
   "source": [
    "X_train.shape, X_test.shape, y_train.shape, y_test.shape"
   ]
  },
  {
   "cell_type": "code",
   "execution_count": 57,
   "metadata": {},
   "outputs": [],
   "source": [
    "from sklearn.ensemble import RandomForestClassifier\n",
    "rf = RandomForestClassifier(n_estimators=80, max_depth=3, max_features=5)"
   ]
  },
  {
   "cell_type": "code",
   "execution_count": 58,
   "metadata": {},
   "outputs": [
    {
     "data": {
      "text/plain": [
       "RandomForestClassifier(bootstrap=True, class_weight=None, criterion='gini',\n",
       "            max_depth=3, max_features=5, max_leaf_nodes=None,\n",
       "            min_impurity_decrease=0.0, min_impurity_split=None,\n",
       "            min_samples_leaf=1, min_samples_split=2,\n",
       "            min_weight_fraction_leaf=0.0, n_estimators=80, n_jobs=1,\n",
       "            oob_score=False, random_state=None, verbose=0,\n",
       "            warm_start=False)"
      ]
     },
     "execution_count": 58,
     "metadata": {},
     "output_type": "execute_result"
    }
   ],
   "source": [
    "rf.fit(X_train, y_train)"
   ]
  },
  {
   "cell_type": "code",
   "execution_count": 59,
   "metadata": {},
   "outputs": [],
   "source": [
    "from sklearn.metrics import classification_report\n",
    "y_pred = rf.predict(X_test)"
   ]
  },
  {
   "cell_type": "code",
   "execution_count": 60,
   "metadata": {},
   "outputs": [
    {
     "name": "stderr",
     "output_type": "stream",
     "text": [
      "D:\\Anaconda3_501\\lib\\site-packages\\sklearn\\metrics\\classification.py:1135: UndefinedMetricWarning: Precision and F-score are ill-defined and being set to 0.0 in labels with no predicted samples.\n",
      "  'precision', 'predicted', average, warn_for)\n",
      "D:\\Anaconda3_501\\lib\\site-packages\\sklearn\\metrics\\classification.py:1137: UndefinedMetricWarning: Recall and F-score are ill-defined and being set to 0.0 in labels with no true samples.\n",
      "  'recall', 'true', average, warn_for)\n"
     ]
    },
    {
     "name": "stdout",
     "output_type": "stream",
     "text": [
      "             precision    recall  f1-score   support\n",
      "\n",
      "          0     0.0000    0.0000    0.0000         7\n",
      "          1     0.0000    0.0000    0.0000      6392\n",
      "          2     0.0000    0.0000    0.0000        77\n",
      "          3     0.0000    0.0000    0.0000        24\n",
      "          4     0.0000    0.0000    0.0000         8\n",
      "          5     0.0000    0.0000    0.0000       132\n",
      "          6     0.3408    0.9943    0.5077      8133\n",
      "          7     0.0000    0.0000    0.0000         0\n",
      "          8     0.0000    0.0000    0.0000         0\n",
      "          9     0.0000    0.0000    0.0000         0\n",
      "         10     0.0000    0.0000    0.0000       110\n",
      "         11     0.0000    0.0000    0.0000         0\n",
      "         12     0.0000    0.0000    0.0000        10\n",
      "         13     0.0000    0.0000    0.0000         4\n",
      "         14     0.0000    0.0000    0.0000         2\n",
      "         15     0.0000    0.0000    0.0000         9\n",
      "\n",
      "avg / total     0.1859    0.5425    0.2770     14908\n",
      "\n"
     ]
    }
   ],
   "source": [
    "print(classification_report(y_test, y_pred, digits=4))"
   ]
  },
  {
   "cell_type": "code",
   "execution_count": null,
   "metadata": {},
   "outputs": [],
   "source": []
  }
 ],
 "metadata": {
  "kernelspec": {
   "display_name": "Python 3",
   "language": "python",
   "name": "python3"
  },
  "language_info": {
   "codemirror_mode": {
    "name": "ipython",
    "version": 3
   },
   "file_extension": ".py",
   "mimetype": "text/x-python",
   "name": "python",
   "nbconvert_exporter": "python",
   "pygments_lexer": "ipython3",
   "version": "3.6.3"
  }
 },
 "nbformat": 4,
 "nbformat_minor": 2
}
